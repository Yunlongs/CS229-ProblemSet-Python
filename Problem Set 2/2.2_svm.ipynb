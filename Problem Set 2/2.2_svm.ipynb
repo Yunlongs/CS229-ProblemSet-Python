{
 "cells": [
  {
   "cell_type": "markdown",
   "metadata": {},
   "source": [
    "# CS229 Problem Set 2\n",
    "## Problem 2：垃圾邮件分类\n",
    "\n",
    "### 问题定义\n",
    "\n",
    "对这些数据训练出来一个SVM模型，要求使用高斯Kernel，用随机梯度下降算法来进行参数更新，并输出训练误差。\n",
    "\n",
    "**目标函数-hinge损失函数：**\n",
    "$$\n",
    "J(\\theta)=\\frac{1}{m} \\sum_{i=1}^{m}\\left\\{\\left[1-y^{(i)} b-y^{(i)} K^{(i)} \\alpha\\right]_{+}+\\frac{m \\lambda}{2} \\alpha^{T} K \\alpha\\right\\}\n",
    "$$\n",
    "**随机梯度-参数更新公式：**\n",
    "$$\n",
    "\\begin{aligned} \\nabla_{\\alpha} J(\\theta) &=\\nabla_{\\alpha}\\left[1-y^{(i)} b-y^{(i)} K^{(i)} \\alpha\\right]_{*}+\\nabla_{\\alpha} \\frac{m \\lambda}{2} \\alpha^{T} K \\alpha \\\\ &=\\left\\{\\begin{array}{ll}{-y^{(i)} K^{(i)}} & {\\text { if } y^{(i)} K^{(i)} \\alpha<1} \\\\ {0} & {\\text { otherwise }} \\end{array}+m \\lambda K \\alpha \\right.\\end{aligned}\n",
    "$$\n",
    "\n",
    "**SVM测试**：\n",
    "对于样本$x^{(j)}$，测试集的Kernel矩阵K来说，当$K(j ; :) \\alpha >0 $时$y^{(i)}=1$否则$y^{(i)}=0$"
   ]
  },
  {
   "cell_type": "code",
   "execution_count": 1,
   "metadata": {
    "collapsed": true
   },
   "outputs": [],
   "source": [
    "from read_Matrix import read_matrix\n",
    "import numpy as np\n",
    "import matplotlib.pyplot as plt\n",
    "import time"
   ]
  },
  {
   "cell_type": "code",
   "execution_count": 2,
   "metadata": {
    "collapsed": true
   },
   "outputs": [],
   "source": [
    "def svm_train(filename):\n",
    "    _,_,Y_label,matrix = read_matrix(filename)\n",
    "    Y_label = np.array(Y_label)*2-1\n",
    "\n",
    "    m,n = matrix.shape\n",
    "    matrix = 1. * (matrix>0)\n",
    "\n",
    "    square_matrix = np.sum(matrix**2,1).reshape(m,1)\n",
    "    gram = matrix.dot(matrix.T)\n",
    "    tau = 8\n",
    "    m_lambda = 1/(64*m)\n",
    "    Kerenl_matrix = np.exp(-(np.repeat(square_matrix,m,1)+np.repeat(square_matrix.T,m,0)-2*gram)/(2*tau**2))\n",
    "\n",
    "    alpha = np.zeros((m,1))\n",
    "    avg_alpha = np.zeros((m,1))\n",
    "    for i in range(40*m):\n",
    "        ind = int(np.ceil(np.random.rand()*m) )-1   #随机抽取样本进行训练\n",
    "        margin = Y_label[ind]*np.dot(Kerenl_matrix[ind,:],alpha)\n",
    "        grad_alpha = (-1*(margin<1)*Y_label[ind]*Kerenl_matrix[:,ind]).reshape((m,1)) + m*m_lambda*Kerenl_matrix[:,ind].reshape((m,1))*alpha\n",
    "        alpha = alpha - grad_alpha/np.sqrt(i+1)\n",
    "        avg_alpha += alpha\n",
    "    avg_alpha /= (40*m)\n",
    "    return avg_alpha,square_matrix,matrix"
   ]
  },
  {
   "cell_type": "code",
   "execution_count": 3,
   "metadata": {
    "collapsed": true
   },
   "outputs": [],
   "source": [
    "def svm_test(alpha,square_train,matrix_train):\n",
    "    _,_,Y_test,matrix_test = read_matrix(\"data/MATRIX.TEST\")\n",
    "    Y_test = (np.array(Y_test)*2-1)\n",
    "    matrix_test = 1. *(matrix_test>0)\n",
    "    m_train = square_train.shape[0]\n",
    "    m_test = matrix_test.shape[0]\n",
    "\n",
    "    square_test = np.sum(matrix_test**2,1).reshape((m_test,1))\n",
    "    gram_test = matrix_test.dot(matrix_train.T)\n",
    "    tau = 8\n",
    "    Kernel_test = np.exp(-(np.repeat(square_test,m_train,1)+np.repeat(square_train.T,m_test,0)-2*gram_test)/(2*tau**2))\n",
    "    Y_pred = Kernel_test.dot(alpha)\n",
    "\n",
    "    num = 0\n",
    "    Y = Y_pred*Y_test.reshape((m_test,1))\n",
    "    for i,y in enumerate(Y):\n",
    "        if y<=0:\n",
    "            num +=1\n",
    "    error = num/m_test\n",
    "    return error"
   ]
  },
  {
   "cell_type": "code",
   "execution_count": 4,
   "metadata": {},
   "outputs": [
    {
     "name": "stdout",
     "output_type": "stream",
     "text": [
      "Size:50  error:1.875  times:0.2608492374420166\n",
      "Size:100  error:0.5  times:0.3048243522644043\n",
      "Size:200  error:1.875  times:0.4667317867279053\n",
      "Size:400  error:0.25  times:1.9708657264709473\n",
      "Size:800  error:0.0  times:2.3656392097473145\n",
      "Size:1400  error:0.0  times:6.1504597663879395\n"
     ]
    }
   ],
   "source": [
    "def main():\n",
    "    train_size = [50,100,200,400,800,1400]\n",
    "    #train_size = [800]\n",
    "    #error = []\n",
    "    for i,size in enumerate(train_size):\n",
    "        start = time.time()\n",
    "        avg_alpha,square_train,matrix_train = svm_train(\"data/MATRIX.TRAIN.\"+str(size))\n",
    "        error = svm_test(avg_alpha,square_train,matrix_train)*100\n",
    "        times = time.time()-start\n",
    "        print(\"Size:\"+str(size)+\"  error:\"+str(error)+\"  times:\"+str(times))\n",
    "main()"
   ]
  },
  {
   "cell_type": "code",
   "execution_count": null,
   "metadata": {
    "collapsed": true
   },
   "outputs": [],
   "source": []
  }
 ],
 "metadata": {
  "kernelspec": {
   "display_name": "Python 3",
   "language": "python",
   "name": "python3"
  },
  "language_info": {
   "codemirror_mode": {
    "name": "ipython",
    "version": 3
   },
   "file_extension": ".py",
   "mimetype": "text/x-python",
   "name": "python",
   "nbconvert_exporter": "python",
   "pygments_lexer": "ipython3",
   "version": "3.5.2"
  }
 },
 "nbformat": 4,
 "nbformat_minor": 2
}
