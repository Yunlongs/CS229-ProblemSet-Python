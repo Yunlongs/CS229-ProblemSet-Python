{
 "cells": [
  {
   "cell_type": "markdown",
   "metadata": {},
   "source": [
    "# CS229 Problem Set 2\n",
    "## Prbolem 2：垃圾邮件分类\n",
    "\n",
    "### 问题定义\n",
    "实现一个贝叶斯分类器来进行垃圾邮件分类，要求使用多项式事件模型和拉普拉斯平滑。\n",
    "(a)使用MATRIX.TRAIN进行训练，使用MATRIX.TEST进行测试，并输出误差。\n",
    "(b)输出最具垃圾邮件代表性的5个词。\n",
    "$$\n",
    "\\log \\frac{p\\left(x_{j}=i | y=1\\right)}{p\\left(x_{j}=i | y=0\\right)}=\\log \\left(\\frac{P(\\text { token } i \\text { (email is SPAM) }}{P(\\text { token } i \\text { (email is NOTSPAM) }}\\right) )\n",
    "$$\n",
    "(c)对不同规模大小的训练集进行训练，并输出测试误差\n",
    "\n",
    "**目标函数：**\n",
    "![](https://yunlongs-1253041399.cos.ap-chengdu.myqcloud.com/image/Stanford/lecture-5-23.jpg)\n",
    "\n",
    "\n",
    "**参数更新公式：**\n",
    "![](https://yunlongs-1253041399.cos.ap-chengdu.myqcloud.com/image/Stanford/lecture-5-21.jpg)\n",
    "\n",
    "**贝叶斯估计：**\n",
    "![](https://yunlongs-1253041399.cos.ap-chengdu.myqcloud.com/image/Stanford/lecture-5-15.jpg)"
   ]
  },
  {
   "cell_type": "code",
   "execution_count": 1,
   "metadata": {
    "collapsed": true
   },
   "outputs": [],
   "source": [
    "from read_Matrix import read_matrix\n",
    "import numpy as np\n",
    "import pandas as pd\n",
    "import matplotlib.pyplot as plt"
   ]
  },
  {
   "cell_type": "code",
   "execution_count": 2,
   "metadata": {},
   "outputs": [],
   "source": [
    "def nb_train(Y_lable,matrix):  ## 贝叶斯训练\n",
    "    Y_lable = np.array(Y_lable)  # 训练集的标签\n",
    "    param = {}\n",
    "    N = matrix.shape[1]\n",
    "    spam_matrix = matrix[Y_lable==1,:]   # 正样本（垃圾邮件）\n",
    "    nonspam_matrix = matrix[Y_lable==0,:]  # 负样本\n",
    "\n",
    "    n_spam= np.sum(spam_matrix,1)    # 每一样本单词个数\n",
    "    n_nonspam = np.sum(nonspam_matrix,1)\n",
    "\n",
    "    param[\"phi_spam\"] = (np.sum((spam_matrix),0)+1)/(np.sum(n_spam)+N)  #Φk|y=1\n",
    "    param[\"phi_nonspam\"] = (np.sum((nonspam_matrix),0)+1)/(np.sum(n_nonspam)+N) #Φk|y=0\n",
    "    param[\"phi\"] = nonspam_matrix.shape[0]/matrix.shape[0]\n",
    "    return param"
   ]
  },
  {
   "cell_type": "code",
   "execution_count": 3,
   "metadata": {
    "collapsed": true
   },
   "outputs": [],
   "source": [
    "def nb_test(param):\n",
    "    _,_,Y,t_matrix = read_matrix(\"data/MATRIX.TEST\")\n",
    "    post_nonspam = np.zeros((t_matrix.shape[0],1))\n",
    "    post_spam = np.zeros((t_matrix.shape[0],1))\n",
    "    for i in range(t_matrix.shape[0]):\n",
    "        p0 = 1\n",
    "        p1 = 1\n",
    "        for j in range(t_matrix.shape[1]):\n",
    "            if t_matrix[i,j]!=0:\n",
    "                p0 = p0* param[\"phi_nonspam\"][j]**t_matrix[i,j]\n",
    "                p1 = p1* param[\"phi_spam\"][j]**t_matrix[i,j]\n",
    "        post_nonspam[i] = p0 *param[\"phi\"]\n",
    "        post_spam[i] = p1 * (1-param[\"phi\"])\n",
    "    #post_nonspam = np.sum(np.log(t_matrix*param[\"phi_nonspam\"]),1)+np.log(param[\"phi\"])   # y=0时 p(xi|y=0)p(y=0) ，不需要计算p(x)\n",
    "    #post_spam = np.sum(np.log(t_matrix*param[\"phi_spam\"]),1)+np.log(1-param[\"phi\"])  # y=1时 p(xi|y=1)p(y=1)\n",
    "    Y_pred = np.zeros(t_matrix.shape[0])\n",
    "    for i in range(t_matrix.shape[0]):\n",
    "        if post_nonspam[i]<=post_spam[i]:\n",
    "            Y_pred[i] = 1\n",
    "        else:\n",
    "            Y_pred[i] = 0\n",
    "    return Y,Y_pred"
   ]
  },
  {
   "cell_type": "code",
   "execution_count": 4,
   "metadata": {
    "collapsed": true
   },
   "outputs": [],
   "source": [
    "def evaulate(Y_test,Y_pred):\n",
    "    m_test = len(Y_test)\n",
    "    n=0\n",
    "    for i in range(m_test):\n",
    "        if Y_test[i]!=Y_pred[i]:\n",
    "            n += 1\n",
    "    return n/m_test"
   ]
  },
  {
   "cell_type": "markdown",
   "metadata": {},
   "source": [
    "### 问题(a)"
   ]
  },
  {
   "cell_type": "code",
   "execution_count": 6,
   "metadata": {},
   "outputs": [
    {
     "name": "stdout",
     "output_type": "stream",
     "text": [
      "error:0.0825\n"
     ]
    }
   ],
   "source": [
    "def main_a():\n",
    "    title,tokens,Y_label,matrix = read_matrix(\"data/MATRIX.TRAIN\")\n",
    "    param = nb_train(Y_label, matrix)\n",
    "    Y_test, Y_pred = nb_test(param)\n",
    "    error = evaulate(Y_test, Y_pred)\n",
    "    print(\"error:%1.4f\" % error)\n",
    "main_a()"
   ]
  },
  {
   "cell_type": "markdown",
   "metadata": {},
   "source": [
    "### 问题（b）"
   ]
  },
  {
   "cell_type": "code",
   "execution_count": 7,
   "metadata": {},
   "outputs": [
    {
     "name": "stdout",
     "output_type": "stream",
     "text": [
      "['valet' 'ebai' 'unsubscrib' 'spam' 'httpaddr']\n"
     ]
    }
   ],
   "source": [
    "def main_b(): #### question (b) find the indicative token\n",
    "    title,tokens,Y_label,matrix = read_matrix(\"data/MATRIX.TRAIN\")\n",
    "    param = nb_train(Y_label, matrix)\n",
    "    a=np.argsort(np.log(param[\"phi_spam\"]/param[\"phi_nonspam\"]))[-5:]\n",
    "    pd_token = pd.read_csv('data/TOKENS_LIST',sep='\\ +',names=[\"index\",\"token\"],engine='python')\n",
    "    tokens = pd_token.values[a,1]\n",
    "    print(tokens)\n",
    "main_b()"
   ]
  },
  {
   "cell_type": "markdown",
   "metadata": {},
   "source": [
    "### 问题（c）"
   ]
  },
  {
   "cell_type": "code",
   "execution_count": 8,
   "metadata": {},
   "outputs": [
    {
     "name": "stdout",
     "output_type": "stream",
     "text": [
      "[0.10125, 0.09125, 0.09, 0.0825, 0.0825]\n"
     ]
    },
    {
     "data": {
      "image/png": "[encoded data removed]",
      "text/plain": [
       "<matplotlib.figure.Figure at 0x2127f604358>"
      ]
     },
     "metadata": {},
     "output_type": "display_data"
    }
   ],
   "source": [
    "def main_c():\n",
    "    trian_size = [50,100,200,800,1400]\n",
    "    res = []\n",
    "    for i,size in enumerate(trian_size):\n",
    "        _,_,Y_label,matrix = read_matrix(\"data/MATRIX.TRAIN.\"+str(size))\n",
    "        param = nb_train(Y_label,matrix)\n",
    "        Y_test,Y_pred = nb_test(param)\n",
    "        res.append(evaulate(Y_test,Y_pred))\n",
    "    plt.plot(trian_size,res)\n",
    "    print(res)\n",
    "    plt.show()\n",
    "main_c()"
   ]
  },
  {
   "cell_type": "code",
   "execution_count": null,
   "metadata": {
    "collapsed": true
   },
   "outputs": [],
   "source": []
  }
 ],
 "metadata": {
  "kernelspec": {
   "display_name": "Python 3",
   "language": "python",
   "name": "python3"
  },
  "language_info": {
   "codemirror_mode": {
    "name": "ipython",
    "version": 3
   },
   "file_extension": ".py",
   "mimetype": "text/x-python",
   "name": "python",
   "nbconvert_exporter": "python",
   "pygments_lexer": "ipython3",
   "version": "3.5.2"
  }
 },
 "nbformat": 4,
 "nbformat_minor": 2
}
