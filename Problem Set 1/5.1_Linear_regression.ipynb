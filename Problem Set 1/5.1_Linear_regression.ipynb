{
 "cells": [
  {
   "cell_type": "markdown",
   "metadata": {},
   "source": [
    "# CS229 Problem Set 1\n",
    "## Problem 5.1\n",
    "\n",
    "### 符号定义\n",
    "- $X$为$m \\times n$维的特征值矩阵\n",
    "- $\\vac y$为标签值向量\n",
    "\n",
    "\n",
    "### 问题定义\n",
    "使用最小二乘法，对数据集中的第一个样本进行线性回归拟合参数，并可视化\n",
    "\n",
    "**最小二乘-参数更新公式：**\n",
    "$$\n",
    "\\theta=\\left(X^{T} X\\right)^{-1} X^{T} \\vec{y}\n",
    "$$\n"
   ]
  },
  {
   "cell_type": "markdown",
   "metadata": {},
   "source": [
    "### 1.导入库文件"
   ]
  },
  {
   "cell_type": "code",
   "execution_count": 1,
   "metadata": {
    "collapsed": true
   },
   "outputs": [],
   "source": [
    "import numpy as np\n",
    "import pandas as pd\n",
    "import matplotlib.pyplot as plt"
   ]
  },
  {
   "cell_type": "markdown",
   "metadata": {},
   "source": [
    "### 2. 数据预处理"
   ]
  },
  {
   "cell_type": "code",
   "execution_count": 2,
   "metadata": {
    "collapsed": true
   },
   "outputs": [],
   "source": [
    "pd_train = pd.read_csv('data/quasar_train.csv')\n",
    "\n",
    "y = pd_train.head(1).values.T  # 获取第一行为样本数据\n",
    "x = np.vstack((np.ones(pd_train.columns.shape), pd_train.columns.values.astype(float))).T # 获取列名为特征，并增加x0"
   ]
  },
  {
   "cell_type": "markdown",
   "metadata": {},
   "source": [
    "### 3.算法 "
   ]
  },
  {
   "cell_type": "code",
   "execution_count": 3,
   "metadata": {},
   "outputs": [
    {
     "name": "stdout",
     "output_type": "stream",
     "text": [
      "theta=[[  2.51339906e+00]\n",
      " [ -9.81122145e-04]]\n"
     ]
    }
   ],
   "source": [
    "def normal_equation(x,y):\n",
    "    theta = np.linalg.inv(x.T.dot(x)).dot(x.T).dot(y)\n",
    "    return theta\n",
    "theta = normal_equation(x,y)\n",
    "print(\"theta=\"+str(theta))"
   ]
  },
  {
   "cell_type": "markdown",
   "metadata": {},
   "source": [
    "### 4.可视化"
   ]
  },
  {
   "cell_type": "code",
   "execution_count": 4,
   "metadata": {},
   "outputs": [
    {
     "data": {
      "image/png": "[encoded data removed]",
      "text/plain": [
       "<matplotlib.figure.Figure at 0x1b363b187f0>"
      ]
     },
     "metadata": {},
     "output_type": "display_data"
    }
   ],
   "source": [
    "plt.plot(x[:,1],y,'b+',label=\"Raw data\")\n",
    "x = np.linspace(np.min(x[:,1]),np.max(x[:,1]),100)\n",
    "plt.plot(x,theta[1]*x+theta[0],'r',linewidth=2,label=\"Regression line\")\n",
    "plt.legend()\n",
    "plt.show()"
   ]
  },
  {
   "cell_type": "code",
   "execution_count": null,
   "metadata": {
    "collapsed": true
   },
   "outputs": [],
   "source": []
  }
 ],
 "metadata": {
  "kernelspec": {
   "display_name": "Python 3",
   "language": "python",
   "name": "python3"
  },
  "language_info": {
   "codemirror_mode": {
    "name": "ipython",
    "version": 3
   },
   "file_extension": ".py",
   "mimetype": "text/x-python",
   "name": "python",
   "nbconvert_exporter": "python",
   "pygments_lexer": "ipython3",
   "version": "3.5.2"
  }
 },
 "nbformat": 4,
 "nbformat_minor": 2
}
