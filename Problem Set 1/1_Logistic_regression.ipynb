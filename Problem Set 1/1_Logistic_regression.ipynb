{
 "cells": [
  {
   "cell_type": "markdown",
   "metadata": {},
   "source": [
    "# CS229 Problem Set 1\n",
    "## Problem 1: 逻辑回归\n",
    "\n",
    "## 符号定义：\n",
    "- $x^{(i)}$为第i个样本向量\n",
    "- $x^{(i)} _j$为第i个样本中第j个特征的值\n",
    "- $y^{(i)}$为第i个样本的标签值\n",
    "\n",
    "\n",
    "## 问题定义：\n",
    "对标签$y^{(i)} \\in \\lbrace -1,1 \\rbrace$的**平均经验损失**目标函数，使用**牛顿方法**拟合出参数$\\theta$。\n",
    "\n",
    "**目标函数**：\n",
    "$$J(\\theta)=\\frac{1}{m} \\sum_{i=1}^{m} \\log \\left(1+e^{-y^{(i)} \\theta^{T} x^{(i)}}\\right)=-\\frac{1}{m} \\sum_{i=1}^{m} \\log \\left(h_{\\theta}\\left(y^{(i)} x^{(i)}\\right)\\right)$$\n",
    "\n",
    "**牛顿方法-参数更新公式**：\n",
    "$$\n",
    "\\theta :=\\theta-H^{-1} \\nabla_{\\theta} J(\\theta)\n",
    "$$\n",
    "\n",
    "**目标函数的一阶和二阶偏导如下：**\n",
    "$$\\nabla_{\\theta} J(\\theta)= - \\frac{1}{m} \\sum_{i=1}^{m} y^{(i)}x^{(i)} h_\\theta (-y^{(i)}x^{(i)})$$\n",
    "$$H = \\frac{1}{m} \\sum_{i=1}^{m} x^{(i)}x^{(i)T}[h_\\theta (-y^{(i)}x^{(i)})(1-h_\\theta(-y^{(i)}x^{(i)})) ]$$"
   ]
  },
  {
   "cell_type": "markdown",
   "metadata": {},
   "source": [
    "### 1. 导入库文件"
   ]
  },
  {
   "cell_type": "code",
   "execution_count": 1,
   "metadata": {
    "collapsed": true
   },
   "outputs": [],
   "source": [
    "import numpy as np # imports a fast numerical programming library\n",
    "import matplotlib.pyplot as plt\n",
    "import pandas as pd #lets us handle data as dataframes"
   ]
  },
  {
   "cell_type": "markdown",
   "metadata": {},
   "source": [
    "### 2. 读取数据，初始化"
   ]
  },
  {
   "cell_type": "code",
   "execution_count": 2,
   "metadata": {
    "collapsed": true
   },
   "outputs": [],
   "source": [
    "df_x = pd.read_csv('data/logistic_x.txt', sep= \"\\ +\", names=[\"x1\",\"x2\"] ,header=None, engine='python')\n",
    "df_y  = pd.read_csv('data/logistic_y.txt', sep=\"\\ +\", names=[\"y\"],header = None ,engine=\"python\")\n",
    "\n",
    "x = np.hstack((np.ones((df_x.shape[0],1)),df_x.values)) # 增加一列x0\n",
    "y = df_y.values\n",
    "m = x.shape[0]\n",
    "n = x.shape[1]\n",
    "theta = np.zeros((n,1))"
   ]
  },
  {
   "cell_type": "markdown",
   "metadata": {},
   "source": [
    "### 3. 参数学习"
   ]
  },
  {
   "cell_type": "code",
   "execution_count": 3,
   "metadata": {
    "collapsed": true
   },
   "outputs": [],
   "source": [
    "def sigmoid(x):\n",
    "    return 1/(1 + np.exp(-x))"
   ]
  },
  {
   "cell_type": "code",
   "execution_count": 4,
   "metadata": {
    "collapsed": true
   },
   "outputs": [],
   "source": [
    "def grad_l(theta,x,y):\n",
    "    z = y *x.dot(theta)\n",
    "    res = (-1/m)*np.dot(x.T,sigmoid(-z)*y)  ## 此sigmoid 中的参数应为 -\n",
    "    return res"
   ]
  },
  {
   "cell_type": "code",
   "execution_count": 5,
   "metadata": {
    "collapsed": true
   },
   "outputs": [],
   "source": [
    "def Hessian_l(theta,x,y):\n",
    "    H = np.zeros((n,n))\n",
    "    for i in range(m):\n",
    "        a = np.array(x[i]).reshape((3, 1))\n",
    "        h_theta = sigmoid(-y[i]*(np.dot(x[i],theta)))\n",
    "        H += np.dot(a,a.T)*(h_theta*(1-h_theta))  # 向量的点积需要注意shape\n",
    "    H = H/m\n",
    "    return H"
   ]
  },
  {
   "cell_type": "code",
   "execution_count": 6,
   "metadata": {},
   "outputs": [
    {
     "name": "stdout",
     "output_type": "stream",
     "text": [
      "theta:[[-2.6205116 ]\n",
      " [ 0.76037154]\n",
      " [ 1.17194674]]\n"
     ]
    }
   ],
   "source": [
    "def Newton(theta,eps,x,y):\n",
    "    for i in range(eps):\n",
    "        G = grad_l(theta,x,y)\n",
    "        H = Hessian_l(theta,x,y)\n",
    "        theta = theta - np.linalg.inv(H).dot(G)\n",
    "    return theta\n",
    "    print(\"theta\",theta)\n",
    "theta = Newton(theta,20,x,y);\n",
    "print(\"theta:\"+str(theta))"
   ]
  },
  {
   "cell_type": "markdown",
   "metadata": {},
   "source": [
    "### 4. 可视化"
   ]
  },
  {
   "cell_type": "code",
   "execution_count": 7,
   "metadata": {},
   "outputs": [
    {
     "data": {
      "image/png": "[encoded data removed]",
      "text/plain": [
       "<matplotlib.figure.Figure at 0x20412f85fd0>"
      ]
     },
     "metadata": {},
     "output_type": "display_data"
    }
   ],
   "source": [
    "def scatter_data(theta):\n",
    "    pos,_ = np.where(y>0)\n",
    "    x1 = x[pos,1]\n",
    "    x2 = x[pos,2]\n",
    "    plt.plot(x1,x2,'go')            # 绘制当y>0的点\n",
    "    pos, _ = np.where(y < 0)\n",
    "    x1 = x[pos, 1]\n",
    "    x2 = x[pos, 2]\n",
    "    plt.plot(x1,x2,'rx')           # 绘制当y<0的点\n",
    "    x1 = np.linspace(np.min(x[:,1]),np.max(x[:,1]),100)\n",
    "    x2 = -(theta[0]+theta[1]*x1)/theta[2]\n",
    "    plt.plot(x1,x2,linewidth=2)   #绘制超平面\n",
    "    plt.xlabel('x1')\n",
    "    plt.ylabel('x2')\n",
    "    plt.show()\n",
    "scatter_data(theta)"
   ]
  },
  {
   "cell_type": "code",
   "execution_count": null,
   "metadata": {
    "collapsed": true
   },
   "outputs": [],
   "source": []
  }
 ],
 "metadata": {
  "kernelspec": {
   "display_name": "Python 3",
   "language": "python",
   "name": "python3"
  },
  "language_info": {
   "codemirror_mode": {
    "name": "ipython",
    "version": 3
   },
   "file_extension": ".py",
   "mimetype": "text/x-python",
   "name": "python",
   "nbconvert_exporter": "python",
   "pygments_lexer": "ipython3",
   "version": "3.5.2"
  }
 },
 "nbformat": 4,
 "nbformat_minor": 2
}
