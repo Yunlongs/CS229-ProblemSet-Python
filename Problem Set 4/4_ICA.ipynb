{
 "cells": [
  {
   "cell_type": "markdown",
   "metadata": {},
   "source": [
    "# CS229 :Problem Set 4\n",
    "## Problem 4: 独立成分分析\n",
    "\n",
    "\n",
    "## 符号定义\n",
    "+ $X$表示混淆过的声音数据矩阵\n",
    "+ $S$表示分离后的声音数据矩阵\n",
    "+ $x^i$表示第i个混淆声音样本\n",
    "+ $s^i$表示第i个原声音样本\n",
    "+ $A$代表混淆矩阵\n",
    "+ $W$代表逆混淆矩阵"
   ]
  },
  {
   "cell_type": "markdown",
   "metadata": {},
   "source": [
    "## ICA算法流程简介\n",
    "\n",
    "1. 假设 $x^i=As^i $\n",
    "2. 原声为 $s^i = Wx^i$\n",
    "3. 在已知原生S的概率密度分布$p_S(s)$的情况下，求出混淆声X的概率密度\n",
    "$$F_X(x)=F(X \\ge x) = F(AS \\ge x) = F(S \\ge Wx)  $$\n",
    "$$p_X(x)=F_X(x)'=F(S \\ge Wx)' = p_s(Wx)|W| $$\n",
    "4. 现在选取sigmoid函数来成为$p_s(s)$的分布函数，即$g(s)'=p_s(s)$。*因为sigmoid函数满足分布函数的定义，且其通常是一个好的选择*\n",
    "5. 目标函数：\n",
    "![](https://yunlongs-1253041399.cos.ap-chengdu.myqcloud.com/image/Stanford/lecture-15-13.png)\n",
    "6.随机梯度的更新公式：\n",
    "![](https://yunlongs-1253041399.cos.ap-chengdu.myqcloud.com/image/Stanford/lecture-15-12.jpg)"
   ]
  },
  {
   "cell_type": "code",
   "execution_count": 1,
   "metadata": {
    "collapsed": true
   },
   "outputs": [],
   "source": [
    "### 安装sounddevic库：\n",
    "### On Mac:\n",
    "###     1. portaudio: On Mac: brew install portaudio\n",
    "###     2. sounddevice: pip install sounddevice\n",
    "###\n",
    "### On windows:\n",
    "###      pip install pyaudio sounddevice\n",
    "###"
   ]
  },
  {
   "cell_type": "markdown",
   "metadata": {},
   "source": [
    "下面这部分不属于算法的部分，是属于音频调制的部分"
   ]
  },
  {
   "cell_type": "code",
   "execution_count": 2,
   "metadata": {
    "collapsed": true
   },
   "outputs": [],
   "source": [
    "import sounddevice as sd\n",
    "import numpy as np\n",
    "Fs = 11025\n",
    "\n",
    "\n",
    "def normalize(dat):\n",
    "    return 0.99 * dat / np.max(np.abs(dat))\n",
    "\n",
    "def load_data():\n",
    "    mix = np.loadtxt('data/mix.dat')\n",
    "    return mix\n",
    "\n",
    "def play(vec):\n",
    "    sd.play(vec, Fs, blocking=True)"
   ]
  },
  {
   "cell_type": "markdown",
   "metadata": {},
   "source": [
    "逆混淆函数，学习出参数W"
   ]
  },
  {
   "cell_type": "code",
   "execution_count": 3,
   "metadata": {
    "collapsed": true
   },
   "outputs": [],
   "source": [
    "def unmixer(X):\n",
    "    M, N = X.shape\n",
    "    W = np.eye(N)\n",
    "\n",
    "    anneal = [0.1, 0.1, 0.1, 0.05, 0.05, 0.05, 0.02, 0.02, 0.01, 0.01,\n",
    "              0.005, 0.005, 0.002, 0.002, 0.001, 0.001]  ## 逐渐变小学习速率\n",
    "    print('Separating tracks ...')\n",
    "    ######## Your code here ##########\n",
    "    for alpha in anneal:  ## 使用每一个因子进行一次完整的训练\n",
    "        order = np.arange(M)\n",
    "        np.random.shuffle(order)   ## 将m个样本的更新顺序打乱\n",
    "        x = X[order, :] \n",
    "        for i in range(M):\n",
    "            a = x[i, :]\n",
    "            g =  1/(1+np.exp(-(W.dot(x[i,:].reshape(N,1)))))    ## sigmoid\n",
    "            W += alpha * (np.dot((1-2*g.reshape(N,1)),x[i,:].reshape(1,N)) + np.linalg.inv(W.T))\n",
    "    return W"
   ]
  },
  {
   "cell_type": "markdown",
   "metadata": {},
   "source": [
    "恢复出每个原声S"
   ]
  },
  {
   "cell_type": "code",
   "execution_count": 4,
   "metadata": {
    "collapsed": true
   },
   "outputs": [],
   "source": [
    "def unmix(X, W):\n",
    "    S = np.zeros(X.shape)\n",
    "\n",
    "    ######### Your code here ##########\n",
    "    S = np.dot(X,W.T)\n",
    "    ##################################\n",
    "    return S\n"
   ]
  },
  {
   "cell_type": "code",
   "execution_count": 5,
   "metadata": {},
   "outputs": [
    {
     "name": "stdout",
     "output_type": "stream",
     "text": [
      "Playing mixed track 0\n",
      "Playing mixed track 1\n",
      "Playing mixed track 2\n",
      "Playing mixed track 3\n",
      "Playing mixed track 4\n",
      "Separating tracks ...\n",
      "Playing separated track 0\n",
      "Playing separated track 1\n",
      "Playing separated track 2\n",
      "Playing separated track 3\n",
      "Playing separated track 4\n"
     ]
    }
   ],
   "source": [
    "def main():\n",
    "    X = normalize(load_data())\n",
    "\n",
    "    for i in range(X.shape[1]):\n",
    "        print('Playing mixed track %d' % i)\n",
    "        #play(X[:, i])\n",
    "\n",
    "    W = unmixer(X)\n",
    "    S = normalize(unmix(X, W))\n",
    "\n",
    "    for i in range(S.shape[1]):\n",
    "        print('Playing separated track %d' % i)\n",
    "        play(S[:, i])\n",
    "\n",
    "if __name__ == '__main__':\n",
    "    main()"
   ]
  },
  {
   "cell_type": "code",
   "execution_count": null,
   "metadata": {
    "collapsed": true
   },
   "outputs": [],
   "source": []
  }
 ],
 "metadata": {
  "kernelspec": {
   "display_name": "Python 3",
   "language": "python",
   "name": "python3"
  },
  "language_info": {
   "codemirror_mode": {
    "name": "ipython",
    "version": 3
   },
   "file_extension": ".py",
   "mimetype": "text/x-python",
   "name": "python",
   "nbconvert_exporter": "python",
   "pygments_lexer": "ipython3",
   "version": "3.5.2"
  }
 },
 "nbformat": 4,
 "nbformat_minor": 2
}
